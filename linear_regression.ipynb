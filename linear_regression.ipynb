{
  "nbformat": 4,
  "nbformat_minor": 0,
  "metadata": {
    "colab": {
      "provenance": [],
      "authorship_tag": "ABX9TyP0FqaS1hm/LhCUFa3KlAV5",
      "include_colab_link": true
    },
    "kernelspec": {
      "name": "python3",
      "display_name": "Python 3"
    },
    "language_info": {
      "name": "python"
    }
  },
  "cells": [
    {
      "cell_type": "markdown",
      "metadata": {
        "id": "view-in-github",
        "colab_type": "text"
      },
      "source": [
        "<a href=\"https://colab.research.google.com/github/2303A51758/2303A51758_ADM/blob/main/linear_regression.ipynb\" target=\"_parent\"><img src=\"https://colab.research.google.com/assets/colab-badge.svg\" alt=\"Open In Colab\"/></a>"
      ]
    },
    {
      "cell_type": "code",
      "execution_count": 1,
      "metadata": {
        "id": "_VfETo8NOrFf"
      },
      "outputs": [],
      "source": [
        "import seaborn as sns\n",
        "import pandas as pd\n",
        "\n",
        "# Load Titanic dataset from seaborn\n",
        "titanic = sns.load_dataset('titanic')\n"
      ]
    },
    {
      "cell_type": "code",
      "source": [
        "# Drop rows with missing 'age', 'fare', or 'embarked'\n",
        "titanic = titanic.dropna(subset=['age', 'fare', 'embarked', 'sex'])\n",
        "\n",
        "# Encode categorical variables\n",
        "titanic['sex'] = titanic['sex'].map({'male': 0, 'female': 1})\n",
        "titanic['embarked'] = titanic['embarked'].map({'S': 0, 'C': 1, 'Q': 2})\n",
        "\n",
        "# Features and target\n",
        "X = titanic[['pclass', 'sex', 'age', 'fare', 'embarked']]\n",
        "y = titanic['survived']\n"
      ],
      "metadata": {
        "colab": {
          "base_uri": "https://localhost:8080/"
        },
        "id": "c7sa7KfqQAQJ",
        "outputId": "9324ec13-1713-4669-d1d1-9464c1fe61f0"
      },
      "execution_count": 2,
      "outputs": [
        {
          "output_type": "stream",
          "name": "stderr",
          "text": [
            "<ipython-input-2-9e7a65080cf5>:5: SettingWithCopyWarning: \n",
            "A value is trying to be set on a copy of a slice from a DataFrame.\n",
            "Try using .loc[row_indexer,col_indexer] = value instead\n",
            "\n",
            "See the caveats in the documentation: https://pandas.pydata.org/pandas-docs/stable/user_guide/indexing.html#returning-a-view-versus-a-copy\n",
            "  titanic['sex'] = titanic['sex'].map({'male': 0, 'female': 1})\n",
            "<ipython-input-2-9e7a65080cf5>:6: SettingWithCopyWarning: \n",
            "A value is trying to be set on a copy of a slice from a DataFrame.\n",
            "Try using .loc[row_indexer,col_indexer] = value instead\n",
            "\n",
            "See the caveats in the documentation: https://pandas.pydata.org/pandas-docs/stable/user_guide/indexing.html#returning-a-view-versus-a-copy\n",
            "  titanic['embarked'] = titanic['embarked'].map({'S': 0, 'C': 1, 'Q': 2})\n"
          ]
        }
      ]
    },
    {
      "cell_type": "code",
      "source": [
        "from sklearn.linear_model import LinearRegression\n",
        "from sklearn.model_selection import train_test_split\n",
        "from sklearn.metrics import mean_squared_error, r2_score\n",
        "\n",
        "# Split the data\n",
        "X_train, X_test, y_train, y_test = train_test_split(X, y, test_size=0.2, random_state=42)\n",
        "\n",
        "# Train the model\n",
        "model = LinearRegression()\n",
        "model.fit(X_train, y_train)\n",
        "\n",
        "# Predict\n",
        "y_pred = model.predict(X_test)\n",
        "\n",
        "# Evaluate\n",
        "print(\"Mean Squared Error:\", mean_squared_error(y_test, y_pred))\n",
        "print(\"R2 Score:\", r2_score(y_test, y_pred))\n"
      ],
      "metadata": {
        "colab": {
          "base_uri": "https://localhost:8080/"
        },
        "id": "81AUKod1QC3E",
        "outputId": "96cba794-6859-4740-cc3a-e4087acb7249"
      },
      "execution_count": 3,
      "outputs": [
        {
          "output_type": "stream",
          "name": "stdout",
          "text": [
            "Mean Squared Error: 0.17309254479044356\n",
            "R2 Score: 0.2977044745198847\n"
          ]
        }
      ]
    },
    {
      "cell_type": "code",
      "source": [
        "# Threshold to classify as survived (1) or not (0)\n",
        "y_pred_class = [1 if p > 0.5 else 0 for p in y_pred]\n",
        "\n",
        "# Check accuracy\n",
        "from sklearn.metrics import accuracy_score\n",
        "print(\"Accuracy:\", accuracy_score(y_test, y_pred_class))\n"
      ],
      "metadata": {
        "colab": {
          "base_uri": "https://localhost:8080/"
        },
        "id": "ibCdp2iLQIhC",
        "outputId": "a21b2e0e-3cc4-465e-8d60-57c6a51e621a"
      },
      "execution_count": 4,
      "outputs": [
        {
          "output_type": "stream",
          "name": "stdout",
          "text": [
            "Accuracy: 0.7902097902097902\n"
          ]
        }
      ]
    }
  ]
}